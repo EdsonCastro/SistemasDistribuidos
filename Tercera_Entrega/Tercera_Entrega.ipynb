{
 "cells": [
  {
   "cell_type": "code",
   "execution_count": null,
   "metadata": {
    "collapsed": false
   },
   "outputs": [],
   "source": [
    "#!/usr/bin/python\n",
    "# -*- coding: utf-8 -*-\n",
    "__author__ = 'Alumno: Edson Castro asignatura Sistemas Distribuidos'\n",
    "\n",
    "from IDtwitter import * #Modulo con los tokens de twitter.\n",
    "import twitter\n",
    "import io\n",
    "import json\n",
    "from flask import request\n",
    "from flask import Flask, render_template\n",
    "from flask.ext.googlemaps import GoogleMaps\n",
    "from flask.ext.googlemaps import Map\n",
    "\n",
    "app = Flask(__name__)\n",
    "GoogleMaps(app)\n",
    "\n",
    "def obtenercoordenadas(buscar):\n",
    "    twitter_api =  oauth_login()\n",
    "    #Limitamos la busqueda a Espana\n",
    "    localizacion = \"40.2085,-3.713,497mi\"\n",
    "\n",
    "    tweets = twitter_api.search.tweets(q=buscar, count=1000, geocode=localizacion)\n",
    "\n",
    "    aux = json.dumps(tweets, indent = 1)\n",
    "    it = json.loads(aux)\n",
    "\n",
    "    resultado = []\n",
    "    for i in it['statuses']:\n",
    "        if i['coordinates'] is not None:\n",
    "            resultado.append(i['coordinates']['coordinates'][1])\n",
    "            resultado.append(i['coordinates']['coordinates'][0])\n",
    "\n",
    "    resultado = zip(resultado[0::1], resultado[1::2])\n",
    "    #print resultado\n",
    "    return resultado\n",
    "\n",
    "\n",
    "#Funcion que muestra el mapa señalando con marcadores donde se han realizado los tweets\"\n",
    "#@app.route(\"/\")\n",
    "#def mapview():\n",
    "@app.route(\"/buscar\", methods=['POST'])\n",
    "def buscar():\n",
    "    termino = request.form['text'] \n",
    "    lista = obtenercoordenadas(termino)\n",
    "    mymap = Map(\n",
    "        identifier=\"view-side\",        \n",
    "        #Coordeandas en el mapa sobre España.\n",
    "        lat=40.2106414,\n",
    "        lng=-4.1370476,        \n",
    "        zoom=6,\n",
    "        markers=lista,\n",
    "        style=\"height:800px;width:800px;margin:0;\"\n",
    "    ) \n",
    "    return render_template('mapa.html', mymap=mymap)\n",
    "\n",
    "@app.route(\"/\")\n",
    "def index():\n",
    "    return render_template('index.html')\n",
    "\n",
    "if __name__ == \"__main__\":\n",
    "    app.run(debug=False)"
   ]
  },
  {
   "cell_type": "code",
   "execution_count": null,
   "metadata": {
    "collapsed": true
   },
   "outputs": [],
   "source": []
  }
 ],
 "metadata": {
  "kernelspec": {
   "display_name": "Python 2",
   "language": "python",
   "name": "python2"
  },
  "language_info": {
   "codemirror_mode": {
    "name": "ipython",
    "version": 2
   },
   "file_extension": ".py",
   "mimetype": "text/x-python",
   "name": "python",
   "nbconvert_exporter": "python",
   "pygments_lexer": "ipython2",
   "version": "2.7.6"
  }
 },
 "nbformat": 4,
 "nbformat_minor": 0
}
